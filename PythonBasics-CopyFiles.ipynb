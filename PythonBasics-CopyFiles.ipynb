{
 "cells": [
  {
   "cell_type": "code",
   "execution_count": 1,
   "metadata": {},
   "outputs": [
    {
     "name": "stdout",
     "output_type": "stream",
     "text": [
      "This is line BBBBBBBBBBB which is written by MBJamshidi\n",
      "This is line APPENDING BBBBBBB which is written by MBJamshidi\n",
      "This is line APPENDING CCCCCCC is written by MBJamshidi\n",
      "\n"
     ]
    }
   ],
   "source": [
    "#COPY\n",
    "#We can copy one file to a new file as follows:\n",
    "#First, we read the file example 1 and interact with it via the file object \"read file“\n",
    "with open(\"WritingExample2.txt\",\"r\") as readfile:\n",
    "    with open(\"WritingExample3.txt\",\"w\") as wfile:\n",
    "        for line in readfile:\n",
    "            wfile.write(line)\n",
    "# Verify if the copy is successfully executed\n",
    "with open(\"WritingExample3.txt\", \"r\") as testwritefile:\n",
    "    print(testwritefile.read())\n"
   ]
  }
 ],
 "metadata": {
  "kernelspec": {
   "display_name": "Python 3",
   "language": "python",
   "name": "python3"
  },
  "language_info": {
   "codemirror_mode": {
    "name": "ipython",
    "version": 3
   },
   "file_extension": ".py",
   "mimetype": "text/x-python",
   "name": "python",
   "nbconvert_exporter": "python",
   "pygments_lexer": "ipython3",
   "version": "3.7.6"
  }
 },
 "nbformat": 4,
 "nbformat_minor": 4
}
